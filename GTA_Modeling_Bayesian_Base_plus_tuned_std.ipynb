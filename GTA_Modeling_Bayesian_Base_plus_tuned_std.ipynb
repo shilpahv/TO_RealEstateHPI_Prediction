{
  "nbformat": 4,
  "nbformat_minor": 0,
  "metadata": {
    "kernelspec": {
      "display_name": "Python 3",
      "language": "python",
      "name": "python3"
    },
    "language_info": {
      "codemirror_mode": {
        "name": "ipython",
        "version": 3
      },
      "file_extension": ".py",
      "mimetype": "text/x-python",
      "name": "python",
      "nbconvert_exporter": "python",
      "pygments_lexer": "ipython3",
      "version": "3.8.5"
    },
    "colab": {
      "name": " GTA_Modeling_Bayesian_Base_plus_tuned_std.ipynb",
      "provenance": [],
      "collapsed_sections": []
    }
  },
  "cells": [
    {
      "cell_type": "markdown",
      "metadata": {
        "id": "W9gTID0JW1j2"
      },
      "source": [
        "##Import packages & load data"
      ]
    },
    {
      "cell_type": "code",
      "metadata": {
        "id": "srM8OZVePBQj",
        "colab": {
          "base_uri": "https://localhost:8080/"
        },
        "outputId": "8b10e351-4031-40fb-b852-97700e4d2371"
      },
      "source": [
        "import pandas as pd\n",
        "import numpy as np\n",
        "from numpy import where\n",
        "\n",
        "!pip install autoimpute\n",
        "from autoimpute.imputations import SingleImputer\n",
        "\n",
        "import xgboost as xgb\n",
        "import sklearn\n",
        "from sklearn.preprocessing import StandardScaler, MinMaxScaler\n",
        "from sklearn.model_selection import train_test_split\n",
        "from sklearn.metrics import mean_squared_error, r2_score\n",
        "from yellowbrick.regressor import ResidualsPlot, PredictionError\n",
        "from sklearn.linear_model import LinearRegression, ARDRegression, BayesianRidge, Lasso, SGDRegressor\n",
        "import matplotlib.pyplot as plt\n",
        "#from matplotlib.pyplot import pyplot\n",
        "\n",
        "from autoimpute.imputations import SingleImputer\n",
        "\n",
        "\n",
        "# Hyperparameter Tuning Packages\n",
        "from sklearn.model_selection import RandomizedSearchCV, GridSearchCV\n",
        "from sklearn.model_selection import KFold, TimeSeriesSplit\n",
        "\n",
        "from xgboost import plot_importance\n",
        "!pip install shap\n",
        "import shap"
      ],
      "execution_count": 1,
      "outputs": [
        {
          "output_type": "stream",
          "text": [
            "Collecting autoimpute\n",
            "\u001b[?25l  Downloading https://files.pythonhosted.org/packages/77/d3/d873eaf22e4a7a434098c4a99d23649346f2736308c30a477505b08c54e4/autoimpute-0.12.2-py3-none-any.whl (100kB)\n",
            "\r\u001b[K     |███▎                            | 10kB 16.5MB/s eta 0:00:01\r\u001b[K     |██████▌                         | 20kB 23.3MB/s eta 0:00:01\r\u001b[K     |█████████▊                      | 30kB 26.8MB/s eta 0:00:01\r\u001b[K     |█████████████                   | 40kB 28.7MB/s eta 0:00:01\r\u001b[K     |████████████████▎               | 51kB 31.2MB/s eta 0:00:01\r\u001b[K     |███████████████████▌            | 61kB 27.6MB/s eta 0:00:01\r\u001b[K     |██████████████████████▊         | 71kB 28.8MB/s eta 0:00:01\r\u001b[K     |██████████████████████████      | 81kB 29.1MB/s eta 0:00:01\r\u001b[K     |█████████████████████████████▎  | 92kB 30.6MB/s eta 0:00:01\r\u001b[K     |████████████████████████████████| 102kB 10.6MB/s \n",
            "\u001b[?25hRequirement already satisfied: pymc3 in /usr/local/lib/python3.7/dist-packages (from autoimpute) (3.11.2)\n",
            "Requirement already satisfied: statsmodels in /usr/local/lib/python3.7/dist-packages (from autoimpute) (0.10.2)\n",
            "Requirement already satisfied: scikit-learn in /usr/local/lib/python3.7/dist-packages (from autoimpute) (0.22.2.post1)\n",
            "Requirement already satisfied: seaborn in /usr/local/lib/python3.7/dist-packages (from autoimpute) (0.11.1)\n",
            "Requirement already satisfied: xgboost in /usr/local/lib/python3.7/dist-packages (from autoimpute) (0.90)\n",
            "Requirement already satisfied: missingno in /usr/local/lib/python3.7/dist-packages (from autoimpute) (0.4.2)\n",
            "Requirement already satisfied: pandas in /usr/local/lib/python3.7/dist-packages (from autoimpute) (1.1.5)\n",
            "Requirement already satisfied: scipy in /usr/local/lib/python3.7/dist-packages (from autoimpute) (1.4.1)\n",
            "Requirement already satisfied: numpy in /usr/local/lib/python3.7/dist-packages (from autoimpute) (1.19.5)\n",
            "Requirement already satisfied: arviz>=0.11.0 in /usr/local/lib/python3.7/dist-packages (from pymc3->autoimpute) (0.11.2)\n",
            "Requirement already satisfied: patsy>=0.5.1 in /usr/local/lib/python3.7/dist-packages (from pymc3->autoimpute) (0.5.1)\n",
            "Requirement already satisfied: semver in /usr/local/lib/python3.7/dist-packages (from pymc3->autoimpute) (2.13.0)\n",
            "Requirement already satisfied: fastprogress>=0.2.0 in /usr/local/lib/python3.7/dist-packages (from pymc3->autoimpute) (1.0.0)\n",
            "Requirement already satisfied: cachetools>=4.2.1 in /usr/local/lib/python3.7/dist-packages (from pymc3->autoimpute) (4.2.2)\n",
            "Requirement already satisfied: typing-extensions>=3.7.4 in /usr/local/lib/python3.7/dist-packages (from pymc3->autoimpute) (3.7.4.3)\n",
            "Requirement already satisfied: theano-pymc==1.1.2 in /usr/local/lib/python3.7/dist-packages (from pymc3->autoimpute) (1.1.2)\n",
            "Requirement already satisfied: dill in /usr/local/lib/python3.7/dist-packages (from pymc3->autoimpute) (0.3.3)\n",
            "Requirement already satisfied: joblib>=0.11 in /usr/local/lib/python3.7/dist-packages (from scikit-learn->autoimpute) (1.0.1)\n",
            "Requirement already satisfied: matplotlib>=2.2 in /usr/local/lib/python3.7/dist-packages (from seaborn->autoimpute) (3.2.2)\n",
            "Requirement already satisfied: pytz>=2017.2 in /usr/local/lib/python3.7/dist-packages (from pandas->autoimpute) (2018.9)\n",
            "Requirement already satisfied: python-dateutil>=2.7.3 in /usr/local/lib/python3.7/dist-packages (from pandas->autoimpute) (2.8.1)\n",
            "Requirement already satisfied: xarray>=0.16.1 in /usr/local/lib/python3.7/dist-packages (from arviz>=0.11.0->pymc3->autoimpute) (0.18.2)\n",
            "Requirement already satisfied: packaging in /usr/local/lib/python3.7/dist-packages (from arviz>=0.11.0->pymc3->autoimpute) (20.9)\n",
            "Requirement already satisfied: netcdf4 in /usr/local/lib/python3.7/dist-packages (from arviz>=0.11.0->pymc3->autoimpute) (1.5.6)\n",
            "Requirement already satisfied: setuptools>=38.4 in /usr/local/lib/python3.7/dist-packages (from arviz>=0.11.0->pymc3->autoimpute) (57.0.0)\n",
            "Requirement already satisfied: six in /usr/local/lib/python3.7/dist-packages (from patsy>=0.5.1->pymc3->autoimpute) (1.15.0)\n",
            "Requirement already satisfied: filelock in /usr/local/lib/python3.7/dist-packages (from theano-pymc==1.1.2->pymc3->autoimpute) (3.0.12)\n",
            "Requirement already satisfied: pyparsing!=2.0.4,!=2.1.2,!=2.1.6,>=2.0.1 in /usr/local/lib/python3.7/dist-packages (from matplotlib>=2.2->seaborn->autoimpute) (2.4.7)\n",
            "Requirement already satisfied: cycler>=0.10 in /usr/local/lib/python3.7/dist-packages (from matplotlib>=2.2->seaborn->autoimpute) (0.10.0)\n",
            "Requirement already satisfied: kiwisolver>=1.0.1 in /usr/local/lib/python3.7/dist-packages (from matplotlib>=2.2->seaborn->autoimpute) (1.3.1)\n",
            "Requirement already satisfied: cftime in /usr/local/lib/python3.7/dist-packages (from netcdf4->arviz>=0.11.0->pymc3->autoimpute) (1.5.0)\n",
            "Installing collected packages: autoimpute\n",
            "Successfully installed autoimpute-0.12.2\n"
          ],
          "name": "stdout"
        },
        {
          "output_type": "stream",
          "text": [
            "/usr/local/lib/python3.7/dist-packages/sklearn/utils/deprecation.py:144: FutureWarning: The sklearn.metrics.classification module is  deprecated in version 0.22 and will be removed in version 0.24. The corresponding classes / functions should instead be imported from sklearn.metrics. Anything that cannot be imported from sklearn.metrics is now part of the private API.\n",
            "  warnings.warn(message, FutureWarning)\n"
          ],
          "name": "stderr"
        },
        {
          "output_type": "stream",
          "text": [
            "Collecting shap\n",
            "\u001b[?25l  Downloading https://files.pythonhosted.org/packages/b9/f4/c5b95cddae15be80f8e58b25edceca105aa83c0b8c86a1edad24a6af80d3/shap-0.39.0.tar.gz (356kB)\n",
            "\r\u001b[K     |█                               | 10kB 17.2MB/s eta 0:00:01\r\u001b[K     |█▉                              | 20kB 23.2MB/s eta 0:00:01\r\u001b[K     |██▊                             | 30kB 28.1MB/s eta 0:00:01\r\u001b[K     |███▊                            | 40kB 28.1MB/s eta 0:00:01\r\u001b[K     |████▋                           | 51kB 28.7MB/s eta 0:00:01\r\u001b[K     |█████▌                          | 61kB 31.1MB/s eta 0:00:01\r\u001b[K     |██████▍                         | 71kB 29.8MB/s eta 0:00:01\r\u001b[K     |███████▍                        | 81kB 30.9MB/s eta 0:00:01\r\u001b[K     |████████▎                       | 92kB 31.6MB/s eta 0:00:01\r\u001b[K     |█████████▏                      | 102kB 31.9MB/s eta 0:00:01\r\u001b[K     |██████████▏                     | 112kB 31.9MB/s eta 0:00:01\r\u001b[K     |███████████                     | 122kB 31.9MB/s eta 0:00:01\r\u001b[K     |████████████                    | 133kB 31.9MB/s eta 0:00:01\r\u001b[K     |████████████▉                   | 143kB 31.9MB/s eta 0:00:01\r\u001b[K     |█████████████▉                  | 153kB 31.9MB/s eta 0:00:01\r\u001b[K     |██████████████▊                 | 163kB 31.9MB/s eta 0:00:01\r\u001b[K     |███████████████▋                | 174kB 31.9MB/s eta 0:00:01\r\u001b[K     |████████████████▋               | 184kB 31.9MB/s eta 0:00:01\r\u001b[K     |█████████████████▌              | 194kB 31.9MB/s eta 0:00:01\r\u001b[K     |██████████████████▍             | 204kB 31.9MB/s eta 0:00:01\r\u001b[K     |███████████████████▎            | 215kB 31.9MB/s eta 0:00:01\r\u001b[K     |████████████████████▎           | 225kB 31.9MB/s eta 0:00:01\r\u001b[K     |█████████████████████▏          | 235kB 31.9MB/s eta 0:00:01\r\u001b[K     |██████████████████████          | 245kB 31.9MB/s eta 0:00:01\r\u001b[K     |███████████████████████         | 256kB 31.9MB/s eta 0:00:01\r\u001b[K     |████████████████████████        | 266kB 31.9MB/s eta 0:00:01\r\u001b[K     |████████████████████████▉       | 276kB 31.9MB/s eta 0:00:01\r\u001b[K     |█████████████████████████▊      | 286kB 31.9MB/s eta 0:00:01\r\u001b[K     |██████████████████████████▊     | 296kB 31.9MB/s eta 0:00:01\r\u001b[K     |███████████████████████████▋    | 307kB 31.9MB/s eta 0:00:01\r\u001b[K     |████████████████████████████▌   | 317kB 31.9MB/s eta 0:00:01\r\u001b[K     |█████████████████████████████▍  | 327kB 31.9MB/s eta 0:00:01\r\u001b[K     |██████████████████████████████▍ | 337kB 31.9MB/s eta 0:00:01\r\u001b[K     |███████████████████████████████▎| 348kB 31.9MB/s eta 0:00:01\r\u001b[K     |████████████████████████████████| 358kB 31.9MB/s \n",
            "\u001b[?25hRequirement already satisfied: numpy in /usr/local/lib/python3.7/dist-packages (from shap) (1.19.5)\n",
            "Requirement already satisfied: scipy in /usr/local/lib/python3.7/dist-packages (from shap) (1.4.1)\n",
            "Requirement already satisfied: scikit-learn in /usr/local/lib/python3.7/dist-packages (from shap) (0.22.2.post1)\n",
            "Requirement already satisfied: pandas in /usr/local/lib/python3.7/dist-packages (from shap) (1.1.5)\n",
            "Requirement already satisfied: tqdm>4.25.0 in /usr/local/lib/python3.7/dist-packages (from shap) (4.41.1)\n",
            "Collecting slicer==0.0.7\n",
            "  Downloading https://files.pythonhosted.org/packages/78/c2/b3f55dfdb8af9812fdb9baf70cacf3b9e82e505b2bd4324d588888b81202/slicer-0.0.7-py3-none-any.whl\n",
            "Requirement already satisfied: numba in /usr/local/lib/python3.7/dist-packages (from shap) (0.51.2)\n",
            "Requirement already satisfied: cloudpickle in /usr/local/lib/python3.7/dist-packages (from shap) (1.3.0)\n",
            "Requirement already satisfied: joblib>=0.11 in /usr/local/lib/python3.7/dist-packages (from scikit-learn->shap) (1.0.1)\n",
            "Requirement already satisfied: python-dateutil>=2.7.3 in /usr/local/lib/python3.7/dist-packages (from pandas->shap) (2.8.1)\n",
            "Requirement already satisfied: pytz>=2017.2 in /usr/local/lib/python3.7/dist-packages (from pandas->shap) (2018.9)\n",
            "Requirement already satisfied: llvmlite<0.35,>=0.34.0.dev0 in /usr/local/lib/python3.7/dist-packages (from numba->shap) (0.34.0)\n",
            "Requirement already satisfied: setuptools in /usr/local/lib/python3.7/dist-packages (from numba->shap) (57.0.0)\n",
            "Requirement already satisfied: six>=1.5 in /usr/local/lib/python3.7/dist-packages (from python-dateutil>=2.7.3->pandas->shap) (1.15.0)\n",
            "Building wheels for collected packages: shap\n",
            "  Building wheel for shap (setup.py) ... \u001b[?25l\u001b[?25hdone\n",
            "  Created wheel for shap: filename=shap-0.39.0-cp37-cp37m-linux_x86_64.whl size=491640 sha256=6ebd052e79a05763cb67935ec5ebbb4e48db4765e3254406704445144a242b60\n",
            "  Stored in directory: /root/.cache/pip/wheels/15/27/f5/a8ab9da52fd159aae6477b5ede6eaaec69fd130fa0fa59f283\n",
            "Successfully built shap\n",
            "Installing collected packages: slicer, shap\n",
            "Successfully installed shap-0.39.0 slicer-0.0.7\n"
          ],
          "name": "stdout"
        }
      ]
    },
    {
      "cell_type": "code",
      "metadata": {
        "colab": {
          "base_uri": "https://localhost:8080/"
        },
        "id": "2AHoq8MVP4L0",
        "outputId": "263b3512-6f99-4a29-c4d2-256b63d01721"
      },
      "source": [
        "from google.colab import drive\n",
        "drive.mount('/content/drive')"
      ],
      "execution_count": 2,
      "outputs": [
        {
          "output_type": "stream",
          "text": [
            "Mounted at /content/drive\n"
          ],
          "name": "stdout"
        }
      ]
    },
    {
      "cell_type": "code",
      "metadata": {
        "id": "qIZbo7iaPBQm"
      },
      "source": [
        "# Read the excel dataset\n",
        "df = pd.read_excel('/content/drive/MyDrive/MMAI/Finance/Alfred_Dataset.xlsx')"
      ],
      "execution_count": 4,
      "outputs": []
    },
    {
      "cell_type": "code",
      "metadata": {
        "colab": {
          "base_uri": "https://localhost:8080/",
          "height": 223
        },
        "id": "fuoJZTRGPBQn",
        "outputId": "5cacfeff-014d-4ffd-8ef8-5094c929944c"
      },
      "source": [
        "# check sample\n",
        "print(df.shape)\n",
        "df.head(3)"
      ],
      "execution_count": 5,
      "outputs": [
        {
          "output_type": "stream",
          "text": [
            "(180, 37)\n"
          ],
          "name": "stdout"
        },
        {
          "output_type": "execute_result",
          "data": {
            "text/html": [
              "<div>\n",
              "<style scoped>\n",
              "    .dataframe tbody tr th:only-of-type {\n",
              "        vertical-align: middle;\n",
              "    }\n",
              "\n",
              "    .dataframe tbody tr th {\n",
              "        vertical-align: top;\n",
              "    }\n",
              "\n",
              "    .dataframe thead th {\n",
              "        text-align: right;\n",
              "    }\n",
              "</style>\n",
              "<table border=\"1\" class=\"dataframe\">\n",
              "  <thead>\n",
              "    <tr style=\"text-align: right;\">\n",
              "      <th></th>\n",
              "      <th>Date</th>\n",
              "      <th>Target_GreaterToronto_Single_Family_HPI</th>\n",
              "      <th>1Yr_MetroOntario_CPI_All</th>\n",
              "      <th>1M_MetroOntario_CPI_all</th>\n",
              "      <th>1Yr_MetroOntario_CPI_Shelter</th>\n",
              "      <th>1M_MetroOntario_CPI_Shelter</th>\n",
              "      <th>Month</th>\n",
              "      <th>1Yr_Lag</th>\n",
              "      <th>1M_Lag</th>\n",
              "      <th>1Yr_GreaterVancounver_Single_Family_HPI</th>\n",
              "      <th>1M_GreaterVancounver_Single_Family_HPI</th>\n",
              "      <th>1Yr_Calgary_Single_Family_HPI</th>\n",
              "      <th>1M_Calgary_Single_Family_HPI</th>\n",
              "      <th>1Yr_Montreal_Single_Family_HPI</th>\n",
              "      <th>1M_Montreal_Single_Family_HPI</th>\n",
              "      <th>1M_RealEstate_GDP_Trading_AdjustedConstant_BasePrice</th>\n",
              "      <th>1Yr_RealEstate_GDP_Trading_AdjustedConstant_BasePrice</th>\n",
              "      <th>1Yr_RetailSales_Toronto</th>\n",
              "      <th>1M_RetailSales_Toronto</th>\n",
              "      <th>1M_Avg_Temperature</th>\n",
              "      <th>1Yr_Avg_Temp</th>\n",
              "      <th>1M_Snow_onGround</th>\n",
              "      <th>1Yr_Snow_onGround</th>\n",
              "      <th>1Yr_Toronto_Median_Annual_Income_Couple_Families</th>\n",
              "      <th>1Yr_Toronto_Median_Annual_Income_Lone_Parent_Families</th>\n",
              "      <th>1M_Toronto_ConstructionCompletionsUnits</th>\n",
              "      <th>1Yr_Toronto_ConstructionCompletionsUnits</th>\n",
              "      <th>1M_Toronto_ConstructionStartsUnits</th>\n",
              "      <th>1Yr_Toronto_ConstructionStartsUnits</th>\n",
              "      <th>1M_Toronto_UnempRate_15_54_yrs</th>\n",
              "      <th>1Yr_BankRate_Canada</th>\n",
              "      <th>1M_BankRate_Canada</th>\n",
              "      <th>1M_Population</th>\n",
              "      <th>1Y_S&amp;P500_Close</th>\n",
              "      <th>1M_S&amp;P500_Close</th>\n",
              "      <th>1Y_Bachelors_Degree_Ontario_NewRegEducation</th>\n",
              "      <th>1Y_Bachelors_Degree_Ontario_NewRegAll</th>\n",
              "    </tr>\n",
              "  </thead>\n",
              "  <tbody>\n",
              "    <tr>\n",
              "      <th>0</th>\n",
              "      <td>2006-01-01</td>\n",
              "      <td>106.4</td>\n",
              "      <td>105.1</td>\n",
              "      <td>107.6</td>\n",
              "      <td>107.4</td>\n",
              "      <td>110.2</td>\n",
              "      <td>1</td>\n",
              "      <td>100.0</td>\n",
              "      <td>105.7</td>\n",
              "      <td>100.0</td>\n",
              "      <td>110.4</td>\n",
              "      <td>100.0</td>\n",
              "      <td>114.7</td>\n",
              "      <td>100.0</td>\n",
              "      <td>103.8</td>\n",
              "      <td>14281</td>\n",
              "      <td>119542</td>\n",
              "      <td>4437136</td>\n",
              "      <td>4486253</td>\n",
              "      <td>-3.446452</td>\n",
              "      <td>-6.829677</td>\n",
              "      <td>1.348387</td>\n",
              "      <td>1.070968</td>\n",
              "      <td>69900.0</td>\n",
              "      <td>31600.0</td>\n",
              "      <td>3296</td>\n",
              "      <td>3173</td>\n",
              "      <td>3401</td>\n",
              "      <td>1681</td>\n",
              "      <td>NaN</td>\n",
              "      <td>2.75</td>\n",
              "      <td>3.50</td>\n",
              "      <td>5035000.000</td>\n",
              "      <td>1181.27</td>\n",
              "      <td>1248.29</td>\n",
              "      <td>11928</td>\n",
              "      <td>333234</td>\n",
              "    </tr>\n",
              "    <tr>\n",
              "      <th>1</th>\n",
              "      <td>2006-02-01</td>\n",
              "      <td>107.4</td>\n",
              "      <td>105.8</td>\n",
              "      <td>108.2</td>\n",
              "      <td>107.9</td>\n",
              "      <td>111.7</td>\n",
              "      <td>2</td>\n",
              "      <td>101.3</td>\n",
              "      <td>106.4</td>\n",
              "      <td>100.5</td>\n",
              "      <td>112.6</td>\n",
              "      <td>101.1</td>\n",
              "      <td>118.9</td>\n",
              "      <td>100.9</td>\n",
              "      <td>104.7</td>\n",
              "      <td>14336</td>\n",
              "      <td>125963</td>\n",
              "      <td>4479503</td>\n",
              "      <td>4528948</td>\n",
              "      <td>0.200000</td>\n",
              "      <td>-3.995000</td>\n",
              "      <td>0.251613</td>\n",
              "      <td>1.192857</td>\n",
              "      <td>69900.0</td>\n",
              "      <td>31600.0</td>\n",
              "      <td>4427</td>\n",
              "      <td>2761</td>\n",
              "      <td>2660</td>\n",
              "      <td>2296</td>\n",
              "      <td>NaN</td>\n",
              "      <td>2.75</td>\n",
              "      <td>3.75</td>\n",
              "      <td>5042500.000</td>\n",
              "      <td>1203.60</td>\n",
              "      <td>1280.08</td>\n",
              "      <td>11928</td>\n",
              "      <td>333234</td>\n",
              "    </tr>\n",
              "    <tr>\n",
              "      <th>2</th>\n",
              "      <td>2006-03-01</td>\n",
              "      <td>108.7</td>\n",
              "      <td>106.4</td>\n",
              "      <td>107.9</td>\n",
              "      <td>108.2</td>\n",
              "      <td>112.0</td>\n",
              "      <td>3</td>\n",
              "      <td>102.4</td>\n",
              "      <td>107.4</td>\n",
              "      <td>101.1</td>\n",
              "      <td>114.8</td>\n",
              "      <td>102.6</td>\n",
              "      <td>125.7</td>\n",
              "      <td>101.9</td>\n",
              "      <td>106.4</td>\n",
              "      <td>14601</td>\n",
              "      <td>124172</td>\n",
              "      <td>4376561</td>\n",
              "      <td>4556689</td>\n",
              "      <td>-3.567500</td>\n",
              "      <td>-1.621290</td>\n",
              "      <td>0.771429</td>\n",
              "      <td>0.825806</td>\n",
              "      <td>69900.0</td>\n",
              "      <td>31600.0</td>\n",
              "      <td>2882</td>\n",
              "      <td>5443</td>\n",
              "      <td>1539</td>\n",
              "      <td>2941</td>\n",
              "      <td>NaN</td>\n",
              "      <td>2.75</td>\n",
              "      <td>3.75</td>\n",
              "      <td>5050011.172</td>\n",
              "      <td>1180.59</td>\n",
              "      <td>1280.66</td>\n",
              "      <td>11928</td>\n",
              "      <td>333234</td>\n",
              "    </tr>\n",
              "  </tbody>\n",
              "</table>\n",
              "</div>"
            ],
            "text/plain": [
              "        Date  ...  1Y_Bachelors_Degree_Ontario_NewRegAll\n",
              "0 2006-01-01  ...                                 333234\n",
              "1 2006-02-01  ...                                 333234\n",
              "2 2006-03-01  ...                                 333234\n",
              "\n",
              "[3 rows x 37 columns]"
            ]
          },
          "metadata": {
            "tags": []
          },
          "execution_count": 5
        }
      ]
    },
    {
      "cell_type": "code",
      "metadata": {
        "id": "1z8YnMI3PBQo"
      },
      "source": [
        "# New column for date year\n",
        "df['Year'] = df['Date'].dt.year\n",
        "# drop a silly feature\n",
        "df = df.drop(columns=['1Y_Bachelors_Degree_Ontario_NewRegEducation',\n",
        "                      '1Yr_Calgary_Single_Family_HPI',\n",
        "                      '1M_Calgary_Single_Family_HPI'\n",
        "                      ])"
      ],
      "execution_count": 6,
      "outputs": []
    },
    {
      "cell_type": "code",
      "metadata": {
        "colab": {
          "base_uri": "https://localhost:8080/"
        },
        "id": "bQaV_7uTtvI5",
        "outputId": "ab2ef77a-bfe8-4c1b-8843-dd3605725917"
      },
      "source": [
        "#remove bubble \n",
        "df = df[~df['Date'].isin(['2017-03-01','2017-08-01','2017-04-01','2017-05-01','2017-06-01','2017-07-01'])]\n",
        "\n",
        "#fix construction\n",
        "def val_fix(x):\n",
        "  if x >= 5000:\n",
        "    y = 5000\n",
        "  else:\n",
        "    y = x\n",
        "  return y\n",
        "df['1M_Toronto_ConstructionCompletionsUnits'] = df['1M_Toronto_ConstructionCompletionsUnits'].apply(val_fix)\n",
        "df['1Yr_Toronto_ConstructionCompletionsUnits'] = df['1Yr_Toronto_ConstructionCompletionsUnits'].apply(val_fix)\n",
        "df['1M_Toronto_ConstructionStartsUnits'] = df['1M_Toronto_ConstructionStartsUnits'].apply(val_fix)\n",
        "df['1Yr_Toronto_ConstructionStartsUnits'] = df['1Yr_Toronto_ConstructionStartsUnits'].apply(val_fix)\n",
        "#visualize\n",
        "df.columns"
      ],
      "execution_count": 7,
      "outputs": [
        {
          "output_type": "execute_result",
          "data": {
            "text/plain": [
              "Index(['Date', 'Target_GreaterToronto_Single_Family_HPI',\n",
              "       '1Yr_MetroOntario_CPI_All', '1M_MetroOntario_CPI_all',\n",
              "       '1Yr_MetroOntario_CPI_Shelter', '1M_MetroOntario_CPI_Shelter', 'Month',\n",
              "       '1Yr_Lag', '1M_Lag', '1Yr_GreaterVancounver_Single_Family_HPI',\n",
              "       '1M_GreaterVancounver_Single_Family_HPI',\n",
              "       '1Yr_Montreal_Single_Family_HPI', '1M_Montreal_Single_Family_HPI',\n",
              "       '1M_RealEstate_GDP_Trading_AdjustedConstant_BasePrice',\n",
              "       '1Yr_RealEstate_GDP_Trading_AdjustedConstant_BasePrice',\n",
              "       '1Yr_RetailSales_Toronto', '1M_RetailSales_Toronto',\n",
              "       '1M_Avg_Temperature', '1Yr_Avg_Temp', '1M_Snow_onGround',\n",
              "       '1Yr_Snow_onGround', '1Yr_Toronto_Median_Annual_Income_Couple_Families',\n",
              "       '1Yr_Toronto_Median_Annual_Income_Lone_Parent_Families',\n",
              "       '1M_Toronto_ConstructionCompletionsUnits',\n",
              "       '1Yr_Toronto_ConstructionCompletionsUnits',\n",
              "       '1M_Toronto_ConstructionStartsUnits',\n",
              "       '1Yr_Toronto_ConstructionStartsUnits', '1M_Toronto_UnempRate_15_54_yrs',\n",
              "       '1Yr_BankRate_Canada', '1M_BankRate_Canada', '1M_Population',\n",
              "       '1Y_S&P500_Close', '1M_S&P500_Close',\n",
              "       '1Y_Bachelors_Degree_Ontario_NewRegAll', 'Year'],\n",
              "      dtype='object')"
            ]
          },
          "metadata": {
            "tags": []
          },
          "execution_count": 7
        }
      ]
    },
    {
      "cell_type": "markdown",
      "metadata": {
        "id": "Qc4P_wgiaPcA"
      },
      "source": [
        "#**Modeling**"
      ]
    },
    {
      "cell_type": "markdown",
      "metadata": {
        "id": "V-KwONMFaZWZ"
      },
      "source": [
        "#Functions"
      ]
    },
    {
      "cell_type": "code",
      "metadata": {
        "id": "dyWrllmkaSIH"
      },
      "source": [
        "def clean_data(df):\n",
        "   \n",
        "    clean_X = df.drop(['Target_GreaterToronto_Single_Family_HPI'], axis=1)\n",
        "    clean_Y = df['Target_GreaterToronto_Single_Family_HPI']\n",
        "    \n",
        "    return clean_X, clean_Y\n",
        "\n",
        "def split_data(clean_X, clean_Y, train_size):\n",
        "    row_num = int(clean_X.shape[0]*train_size)\n",
        "    \n",
        "    X_train = clean_X[:row_num].drop(['Date'], axis=1)\n",
        "    Y_train = clean_Y[:row_num]\n",
        "    \n",
        "    X_test  = clean_X[row_num:].drop(['Date'], axis=1)\n",
        "    Y_test  = clean_Y[row_num:]\n",
        "\n",
        "    X_test_date  = clean_X[row_num:][['Date']]\n",
        "\n",
        "    imputer = SingleImputer(strategy=\"mean\")\n",
        "    X_train = imputer.fit_transform(X_train)\n",
        "    X_test = imputer.transform(X_test)\n",
        "    \n",
        "    return X_train, X_test, Y_train, Y_test, X_test_date\n",
        "\n",
        "def adj_r2(X, y, y_pred):\n",
        "        r2 = r2_score(y,y_pred)\n",
        "        adj_r2 = (1 - (1 - r2) * ((X.shape[0] - 1) / (X.shape[0] - X.shape[1] - 1)))\n",
        "        return r2, adj_r2\n",
        "\n",
        "def predict_test_values(model, X_test, y_test, X_test_date, X_train, y_train):\n",
        "    y_test_pred = model.predict(X_test)\n",
        "    y_train_pred = model.predict(X_train)\n",
        "\n",
        "    y_test_pred_rmse = mean_squared_error(y_test,y_test_pred,squared=False)\n",
        "    print (f'RMSE of Test Data: {y_test_pred_rmse}')\n",
        "    \n",
        "    r2_train, adj_r2_train = adj_r2(X_train, y_train,y_train_pred)\n",
        "    r2_test, adj_r2_test = adj_r2(X_test, y_test, y_test_pred)\n",
        "    \n",
        "    print (f'Adjusted R2 of Train Data: {adj_r2_train}')\n",
        "    print (f'R2 of Test Data: {r2_test}')\n",
        "    \n",
        "    #Populate dataframe for plotting\n",
        "    df_test_actual = pd.DataFrame(y_test).rename({'TARGET':'y_test_actual'},axis=1).reset_index(drop=True)\n",
        "    df_test_pred = pd.DataFrame(y_test_pred,columns=['y_test_pred']).reset_index(drop=True)\n",
        "    df_test = pd.concat([X_test_date.reset_index(drop=True),df_test_actual,df_test_pred],axis=1)\n",
        "    \n",
        "    #Group results\n",
        "    df_test_results = df_test.groupby(['Date']).sum()\n",
        "    \n",
        "    return df_test_results\n",
        "\n",
        "def plot_test_results (df_test_results, model_num):\n",
        "    \n",
        "    model_names = {\n",
        "    1: 'XGBoost',\n",
        "    2: 'Bayesian',\n",
        "    3: 'ARD Regression',\n",
        "    4: 'Linear Regression',   \n",
        "    5: 'Lasso',\n",
        "    6: 'SGD'\n",
        "    }\n",
        "    title = model_names[model_num] + ' Actual vs. Model Results'\n",
        "    \n",
        "    plt.plot(df_test_results.index, df_test_results)\n",
        "    plt.xticks(rotation=90)\n",
        "    plt.title(title)\n",
        "    plt.legend(['Actual GreaterToronto_Single_Family_HPI','Predicted GreaterToronto_Single_Family_HPI']) \n",
        "    plt.grid(False)\n",
        "    return plt.show()\n",
        "\n",
        "def residual_plot(model,X, Y, hist=False,qqplot=True):\n",
        "    \"\"\"\n",
        "    Plot *residual* to understand Homoscedasticity and heteroskedasticity\n",
        "    Plot *q-q* plot for normality testing\n",
        "    \"\"\"\n",
        "    visualizer = ResidualsPlot(model,hist=hist, qqplot=qqplot)\n",
        "    visualizer.fit(X, Y) \n",
        "    return visualizer.show()\n",
        "\n",
        "def feat_selection_step_1(model_num, X_train, y_train, X_test, y_test, top):\n",
        "    \"\"\"\n",
        "    First stage of feature selection. Sort all faetures by predicitve power,\n",
        "    by testing performance of features individually on predicting the target\n",
        "    \"\"\"\n",
        "    rmse_score = []\n",
        "    for i in range(0,len(X_train.columns)):\n",
        "        X_train_samp = X_train.iloc[:, [i]]\n",
        "        X_test_samp = X_test.iloc[:, [i]]\n",
        "        model = models[model_num].fit(X_train_samp,y_train)\n",
        "        y_test_pred = model.predict(X_test_samp)\n",
        "        y_test_pred_rmse = mean_squared_error(y_test,y_test_pred,squared=False)\n",
        "        rmse_score.append(y_test_pred_rmse)\n",
        "        \n",
        "    feature_rank = pd.DataFrame(list(zip(X_train.columns,rmse_score)), columns=['col_name','rmse_score'])\n",
        "    feature_rank = feature_rank.sort_values('rmse_score')\n",
        "    \n",
        "    feature_rank = feature_rank.head(top)\n",
        "    \n",
        "    pd.set_option('display.max_rows', top)\n",
        "    display(feature_rank)\n",
        "    pd.set_option('display.max_rows', 20)\n",
        "    \n",
        "    \n",
        "    X_train = X_train[list(feature_rank.col_name)]\n",
        "    X_test  = X_test[list(feature_rank.col_name)]\n",
        "    \n",
        "    return feature_rank, X_train, X_test\n",
        "\n",
        "def feat_selection_step_2(train_data, test_data, threshold):\n",
        "    \"\"\"\n",
        "    Second stage of feature selection, using the top 50 features from stage 1, find the \n",
        "    single highest correlated feature to each of the 50 features using pearsons r.\n",
        "    \n",
        "    Remove cols higher then threshold.\n",
        "    \"\"\"\n",
        "    col_corr = set() # Set of all the names of deleted columns\n",
        "    corr_matrix = train_data.corr()\n",
        "    \n",
        "    for i in range(len(corr_matrix.columns)):\n",
        "        for j in range(i):\n",
        "            if (corr_matrix.iloc[i, j] >= threshold) and (corr_matrix.columns[j] not in col_corr):\n",
        "                colname = corr_matrix.columns[i] # getting the name of column\n",
        "                col_corr.add(colname)\n",
        "                if colname in train_data.columns:\n",
        "                    #if colname not in ['WEEK_START_DATE_MONTH','WEEK_END_DATE_MONTH','WEEK_START_DATE_WEEK','WEEK_END_DATE_WEEK']:\n",
        "                    if colname not in ['Year']:\n",
        "                        print('Dropped:', colname)\n",
        "                        del train_data[colname] # deleting the column from the dataset\n",
        "                        del test_data[colname]\n",
        "        \n",
        "    \n",
        "    return train_data, test_data\n",
        "\n",
        "\n",
        "def tuner(params, folds, model, X_train, y_train):\n",
        "    \"\"\"\n",
        "        Do a k fold hyperparamter tune using random search\n",
        "    \"\"\"\n",
        "    \n",
        "    kf = TimeSeriesSplit(n_splits=folds)\n",
        "    \n",
        "    random_search = RandomizedSearchCV(model, param_distributions=params, \n",
        "                                    n_iter=len(params), scoring='neg_root_mean_squared_error', n_jobs=4,\n",
        "                                       cv=kf.split(X_train,y_train), verbose=3, random_state=1001)\n",
        "    random_search.fit(X_train, y_train)\n",
        "    \n",
        "    print('\\nBest hyperparameters: ', random_search.best_params_, \"\\nBest Score: \", random_search.best_score_)\n",
        "\n",
        "    return random_search.best_params_, random_search.best_estimator_"
      ],
      "execution_count": 8,
      "outputs": []
    },
    {
      "cell_type": "code",
      "metadata": {
        "id": "-_eK6D3ua2sn"
      },
      "source": [
        "models = {\n",
        "    1: xgb.XGBRegressor(n_estimators=100, random_state=1),\n",
        "    2: BayesianRidge(normalize=True, n_iter=1000),\n",
        "    3: ARDRegression(),\n",
        "    4: LinearRegression(),   \n",
        "    5: Lasso(),\n",
        "    6: SGDRegressor()\n",
        "\n",
        "}"
      ],
      "execution_count": 9,
      "outputs": []
    },
    {
      "cell_type": "markdown",
      "metadata": {
        "id": "B6XuII6kCUZO"
      },
      "source": [
        "##Remove bubble and clean construction outliers"
      ]
    },
    {
      "cell_type": "markdown",
      "metadata": {
        "id": "BmMHNKz-ixFn"
      },
      "source": [
        "#Select a Model to Run"
      ]
    },
    {
      "cell_type": "code",
      "metadata": {
        "id": "Gz-u0tYEtLeE"
      },
      "source": [
        "train_size = 0.85 #adjustable\n",
        "\n",
        "clean_X, clean_Y = clean_data(df)\n",
        "X_train, X_test, y_train, y_test, X_test_date = split_data(clean_X, clean_Y, train_size = train_size)"
      ],
      "execution_count": 10,
      "outputs": []
    },
    {
      "cell_type": "code",
      "metadata": {
        "id": "gz8xSQp9ZBjw"
      },
      "source": [
        "# Standardize\n",
        "from sklearn.preprocessing import StandardScaler\n",
        "scaler = StandardScaler()\n",
        "X_train = pd.DataFrame(scaler.fit_transform(X_train),columns=X_train.columns)\n",
        "X_test = pd.DataFrame(scaler.transform(X_test),columns=X_test.columns)"
      ],
      "execution_count": 11,
      "outputs": []
    },
    {
      "cell_type": "code",
      "metadata": {
        "id": "jjbEvgWUiuVC"
      },
      "source": [
        "model_num = 2"
      ],
      "execution_count": 12,
      "outputs": []
    },
    {
      "cell_type": "markdown",
      "metadata": {
        "id": "EFGUJscpi4bq"
      },
      "source": [
        "##Model Building"
      ]
    },
    {
      "cell_type": "code",
      "metadata": {
        "colab": {
          "base_uri": "https://localhost:8080/"
        },
        "id": "k47-2jjli0ke",
        "outputId": "63e9d008-9c85-4642-b2f3-32fdfc7b4188"
      },
      "source": [
        "# Base model shows overfitting, negative r2 on test\n",
        "from sklearn.metrics import r2_score\n",
        "model = models[model_num].fit(X_train,y_train)\n",
        "y_pred_t = model.predict (X_train)\n",
        "y_pred_test = model.predict (X_test)\n",
        "print(\"r2 score on train: \",r2_score(y_train,y_pred_t))\n",
        "print(\"r2 score on test: \",r2_score(y_test,y_pred_test))\n",
        "print(f'RMSE on test: {mean_squared_error(y_test,y_pred_test,squared=False)}')"
      ],
      "execution_count": 13,
      "outputs": [
        {
          "output_type": "stream",
          "text": [
            "r2 score on train:  0.9996044537138515\n",
            "r2 score on test:  0.7375439197115161\n",
            "RMSE on test: 8.432303624707663\n"
          ],
          "name": "stdout"
        }
      ]
    },
    {
      "cell_type": "code",
      "metadata": {
        "colab": {
          "base_uri": "https://localhost:8080/",
          "height": 346
        },
        "id": "lNUrGuGW7cyc",
        "outputId": "829c279d-7841-473b-fa70-36f46329f6e8"
      },
      "source": [
        "visualizer = ResidualsPlot(model,hist=True, qqplot=True)\n",
        "visualizer.fit(X_train, y_train) "
      ],
      "execution_count": 14,
      "outputs": [
        {
          "output_type": "stream",
          "text": [
            "From version 0.24, get_params will raise an AttributeError if a parameter cannot be retrieved as an instance attribute. Previously it would return None.\n"
          ],
          "name": "stderr"
        },
        {
          "output_type": "execute_result",
          "data": {
            "text/plain": [
              "ResidualsPlot(alpha=0.75,\n",
              "              ax=<matplotlib.axes._subplots.AxesSubplot object at 0x7febbc4a97d0>,\n",
              "              hist=True, line_color=None, model=None, test_color=None,\n",
              "              train_color=None)"
            ]
          },
          "metadata": {
            "tags": []
          },
          "execution_count": 14
        },
        {
          "output_type": "display_data",
          "data": {
            "image/png": "[encoded data removed]",
            "text/plain": [
              "<Figure size 432x288 with 2 Axes>"
            ]
          },
          "metadata": {
            "tags": [],
            "needs_background": "light"
          }
        }
      ]
    },
    {
      "cell_type": "markdown",
      "metadata": {
        "id": "VE9j0sFLj6JP"
      },
      "source": [
        "#Feature Selection"
      ]
    },
    {
      "cell_type": "code",
      "metadata": {
        "colab": {
          "base_uri": "https://localhost:8080/",
          "height": 1000
        },
        "id": "QmIEpcNejIkA",
        "outputId": "f7acb8ea-1405-4181-a6ea-4f63dc19c10f"
      },
      "source": [
        "# Feature selction stage 1\n",
        "feature_rank, X_train_sel,X_test_sel = feat_selection_step_1(model_num, X_train,y_train, X_test, y_test, top=50)"
      ],
      "execution_count": 15,
      "outputs": [
        {
          "output_type": "display_data",
          "data": {
            "text/html": [
              "<div>\n",
              "<style scoped>\n",
              "    .dataframe tbody tr th:only-of-type {\n",
              "        vertical-align: middle;\n",
              "    }\n",
              "\n",
              "    .dataframe tbody tr th {\n",
              "        vertical-align: top;\n",
              "    }\n",
              "\n",
              "    .dataframe thead th {\n",
              "        text-align: right;\n",
              "    }\n",
              "</style>\n",
              "<table border=\"1\" class=\"dataframe\">\n",
              "  <thead>\n",
              "    <tr style=\"text-align: right;\">\n",
              "      <th></th>\n",
              "      <th>col_name</th>\n",
              "      <th>rmse_score</th>\n",
              "    </tr>\n",
              "  </thead>\n",
              "  <tbody>\n",
              "    <tr>\n",
              "      <th>6</th>\n",
              "      <td>1M_Lag</td>\n",
              "      <td>2.237522</td>\n",
              "    </tr>\n",
              "    <tr>\n",
              "      <th>3</th>\n",
              "      <td>1M_MetroOntario_CPI_Shelter</td>\n",
              "      <td>9.074774</td>\n",
              "    </tr>\n",
              "    <tr>\n",
              "      <th>2</th>\n",
              "      <td>1Yr_MetroOntario_CPI_Shelter</td>\n",
              "      <td>10.616883</td>\n",
              "    </tr>\n",
              "    <tr>\n",
              "      <th>5</th>\n",
              "      <td>1Yr_Lag</td>\n",
              "      <td>12.809789</td>\n",
              "    </tr>\n",
              "    <tr>\n",
              "      <th>30</th>\n",
              "      <td>1M_S&amp;P500_Close</td>\n",
              "      <td>14.426105</td>\n",
              "    </tr>\n",
              "    <tr>\n",
              "      <th>13</th>\n",
              "      <td>1Yr_RetailSales_Toronto</td>\n",
              "      <td>14.832033</td>\n",
              "    </tr>\n",
              "    <tr>\n",
              "      <th>29</th>\n",
              "      <td>1Y_S&amp;P500_Close</td>\n",
              "      <td>16.216360</td>\n",
              "    </tr>\n",
              "    <tr>\n",
              "      <th>0</th>\n",
              "      <td>1Yr_MetroOntario_CPI_All</td>\n",
              "      <td>16.769936</td>\n",
              "    </tr>\n",
              "    <tr>\n",
              "      <th>9</th>\n",
              "      <td>1Yr_Montreal_Single_Family_HPI</td>\n",
              "      <td>18.916600</td>\n",
              "    </tr>\n",
              "    <tr>\n",
              "      <th>1</th>\n",
              "      <td>1M_MetroOntario_CPI_all</td>\n",
              "      <td>21.276379</td>\n",
              "    </tr>\n",
              "    <tr>\n",
              "      <th>10</th>\n",
              "      <td>1M_Montreal_Single_Family_HPI</td>\n",
              "      <td>21.753602</td>\n",
              "    </tr>\n",
              "    <tr>\n",
              "      <th>32</th>\n",
              "      <td>Year</td>\n",
              "      <td>22.984829</td>\n",
              "    </tr>\n",
              "    <tr>\n",
              "      <th>11</th>\n",
              "      <td>1M_RealEstate_GDP_Trading_AdjustedConstant_Bas...</td>\n",
              "      <td>23.282050</td>\n",
              "    </tr>\n",
              "    <tr>\n",
              "      <th>12</th>\n",
              "      <td>1Yr_RealEstate_GDP_Trading_AdjustedConstant_Ba...</td>\n",
              "      <td>27.073044</td>\n",
              "    </tr>\n",
              "    <tr>\n",
              "      <th>7</th>\n",
              "      <td>1Yr_GreaterVancounver_Single_Family_HPI</td>\n",
              "      <td>30.261275</td>\n",
              "    </tr>\n",
              "    <tr>\n",
              "      <th>28</th>\n",
              "      <td>1M_Population</td>\n",
              "      <td>32.290819</td>\n",
              "    </tr>\n",
              "    <tr>\n",
              "      <th>31</th>\n",
              "      <td>1Y_Bachelors_Degree_Ontario_NewRegAll</td>\n",
              "      <td>32.392020</td>\n",
              "    </tr>\n",
              "    <tr>\n",
              "      <th>8</th>\n",
              "      <td>1M_GreaterVancounver_Single_Family_HPI</td>\n",
              "      <td>39.540272</td>\n",
              "    </tr>\n",
              "    <tr>\n",
              "      <th>14</th>\n",
              "      <td>1M_RetailSales_Toronto</td>\n",
              "      <td>44.316571</td>\n",
              "    </tr>\n",
              "    <tr>\n",
              "      <th>20</th>\n",
              "      <td>1Yr_Toronto_Median_Annual_Income_Lone_Parent_F...</td>\n",
              "      <td>85.348559</td>\n",
              "    </tr>\n",
              "    <tr>\n",
              "      <th>19</th>\n",
              "      <td>1Yr_Toronto_Median_Annual_Income_Couple_Families</td>\n",
              "      <td>86.374673</td>\n",
              "    </tr>\n",
              "    <tr>\n",
              "      <th>27</th>\n",
              "      <td>1M_BankRate_Canada</td>\n",
              "      <td>106.659463</td>\n",
              "    </tr>\n",
              "    <tr>\n",
              "      <th>26</th>\n",
              "      <td>1Yr_BankRate_Canada</td>\n",
              "      <td>110.418212</td>\n",
              "    </tr>\n",
              "    <tr>\n",
              "      <th>4</th>\n",
              "      <td>Month</td>\n",
              "      <td>112.326674</td>\n",
              "    </tr>\n",
              "    <tr>\n",
              "      <th>15</th>\n",
              "      <td>1M_Avg_Temperature</td>\n",
              "      <td>112.326680</td>\n",
              "    </tr>\n",
              "    <tr>\n",
              "      <th>16</th>\n",
              "      <td>1Yr_Avg_Temp</td>\n",
              "      <td>112.326689</td>\n",
              "    </tr>\n",
              "    <tr>\n",
              "      <th>17</th>\n",
              "      <td>1M_Snow_onGround</td>\n",
              "      <td>112.326696</td>\n",
              "    </tr>\n",
              "    <tr>\n",
              "      <th>22</th>\n",
              "      <td>1Yr_Toronto_ConstructionCompletionsUnits</td>\n",
              "      <td>112.326725</td>\n",
              "    </tr>\n",
              "    <tr>\n",
              "      <th>24</th>\n",
              "      <td>1Yr_Toronto_ConstructionStartsUnits</td>\n",
              "      <td>112.326758</td>\n",
              "    </tr>\n",
              "    <tr>\n",
              "      <th>18</th>\n",
              "      <td>1Yr_Snow_onGround</td>\n",
              "      <td>112.508106</td>\n",
              "    </tr>\n",
              "    <tr>\n",
              "      <th>23</th>\n",
              "      <td>1M_Toronto_ConstructionStartsUnits</td>\n",
              "      <td>112.571273</td>\n",
              "    </tr>\n",
              "    <tr>\n",
              "      <th>21</th>\n",
              "      <td>1M_Toronto_ConstructionCompletionsUnits</td>\n",
              "      <td>113.082087</td>\n",
              "    </tr>\n",
              "    <tr>\n",
              "      <th>25</th>\n",
              "      <td>1M_Toronto_UnempRate_15_54_yrs</td>\n",
              "      <td>118.166164</td>\n",
              "    </tr>\n",
              "  </tbody>\n",
              "</table>\n",
              "</div>"
            ],
            "text/plain": [
              "                                             col_name  rmse_score\n",
              "6                                              1M_Lag    2.237522\n",
              "3                         1M_MetroOntario_CPI_Shelter    9.074774\n",
              "2                        1Yr_MetroOntario_CPI_Shelter   10.616883\n",
              "5                                             1Yr_Lag   12.809789\n",
              "30                                    1M_S&P500_Close   14.426105\n",
              "13                            1Yr_RetailSales_Toronto   14.832033\n",
              "29                                    1Y_S&P500_Close   16.216360\n",
              "0                            1Yr_MetroOntario_CPI_All   16.769936\n",
              "9                      1Yr_Montreal_Single_Family_HPI   18.916600\n",
              "1                             1M_MetroOntario_CPI_all   21.276379\n",
              "10                      1M_Montreal_Single_Family_HPI   21.753602\n",
              "32                                               Year   22.984829\n",
              "11  1M_RealEstate_GDP_Trading_AdjustedConstant_Bas...   23.282050\n",
              "12  1Yr_RealEstate_GDP_Trading_AdjustedConstant_Ba...   27.073044\n",
              "7             1Yr_GreaterVancounver_Single_Family_HPI   30.261275\n",
              "28                                      1M_Population   32.290819\n",
              "31              1Y_Bachelors_Degree_Ontario_NewRegAll   32.392020\n",
              "8              1M_GreaterVancounver_Single_Family_HPI   39.540272\n",
              "14                             1M_RetailSales_Toronto   44.316571\n",
              "20  1Yr_Toronto_Median_Annual_Income_Lone_Parent_F...   85.348559\n",
              "19   1Yr_Toronto_Median_Annual_Income_Couple_Families   86.374673\n",
              "27                                 1M_BankRate_Canada  106.659463\n",
              "26                                1Yr_BankRate_Canada  110.418212\n",
              "4                                               Month  112.326674\n",
              "15                                 1M_Avg_Temperature  112.326680\n",
              "16                                       1Yr_Avg_Temp  112.326689\n",
              "17                                   1M_Snow_onGround  112.326696\n",
              "22           1Yr_Toronto_ConstructionCompletionsUnits  112.326725\n",
              "24                1Yr_Toronto_ConstructionStartsUnits  112.326758\n",
              "18                                  1Yr_Snow_onGround  112.508106\n",
              "23                 1M_Toronto_ConstructionStartsUnits  112.571273\n",
              "21            1M_Toronto_ConstructionCompletionsUnits  113.082087\n",
              "25                     1M_Toronto_UnempRate_15_54_yrs  118.166164"
            ]
          },
          "metadata": {
            "tags": []
          }
        }
      ]
    },
    {
      "cell_type": "code",
      "metadata": {
        "colab": {
          "base_uri": "https://localhost:8080/"
        },
        "id": "yM6RO1Aobn8y",
        "outputId": "39dee3a1-e073-4473-ec12-9f09c7225112"
      },
      "source": [
        "print(X_train_sel.shape)\n",
        "print(X_test_sel.shape)"
      ],
      "execution_count": 16,
      "outputs": [
        {
          "output_type": "stream",
          "text": [
            "(147, 33)\n",
            "(27, 33)\n"
          ],
          "name": "stdout"
        }
      ]
    },
    {
      "cell_type": "code",
      "metadata": {
        "id": "_VCtJArdj_qu",
        "colab": {
          "base_uri": "https://localhost:8080/"
        },
        "outputId": "f1772abb-0e11-4d8a-8433-2b858bdc49fd"
      },
      "source": [
        "# Feature selction stage 2\n",
        "X_train_final, X_test_final = feat_selection_step_2(X_train_sel,X_test_sel, threshold = 0.4)"
      ],
      "execution_count": 17,
      "outputs": [
        {
          "output_type": "stream",
          "text": [
            "Dropped: 1M_MetroOntario_CPI_Shelter\n",
            "Dropped: 1Yr_MetroOntario_CPI_Shelter\n",
            "Dropped: 1Yr_Lag\n",
            "Dropped: 1M_S&P500_Close\n",
            "Dropped: 1Yr_RetailSales_Toronto\n",
            "Dropped: 1Y_S&P500_Close\n",
            "Dropped: 1Yr_MetroOntario_CPI_All\n",
            "Dropped: 1Yr_Montreal_Single_Family_HPI\n",
            "Dropped: 1M_MetroOntario_CPI_all\n",
            "Dropped: 1M_Montreal_Single_Family_HPI\n",
            "Dropped: 1M_RealEstate_GDP_Trading_AdjustedConstant_BasePrice\n",
            "Dropped: 1Yr_RealEstate_GDP_Trading_AdjustedConstant_BasePrice\n",
            "Dropped: 1Yr_GreaterVancounver_Single_Family_HPI\n",
            "Dropped: 1M_Population\n",
            "Dropped: 1Y_Bachelors_Degree_Ontario_NewRegAll\n",
            "Dropped: 1M_GreaterVancounver_Single_Family_HPI\n",
            "Dropped: 1M_RetailSales_Toronto\n",
            "Dropped: 1Yr_Toronto_Median_Annual_Income_Lone_Parent_Families\n",
            "Dropped: 1Yr_Toronto_Median_Annual_Income_Couple_Families\n",
            "Dropped: 1Yr_BankRate_Canada\n",
            "Dropped: 1M_Avg_Temperature\n"
          ],
          "name": "stdout"
        }
      ]
    },
    {
      "cell_type": "code",
      "metadata": {
        "id": "Nx3TqwgMOPe3"
      },
      "source": [
        "#and drop highly negative\n",
        "X_train_final = X_train_final.drop(columns=['Year','1M_Snow_onGround','1Yr_Snow_onGround'])\n",
        "X_test_final = X_test_final.drop(columns=['Year','1M_Snow_onGround','1Yr_Snow_onGround'])"
      ],
      "execution_count": 18,
      "outputs": []
    },
    {
      "cell_type": "code",
      "metadata": {
        "colab": {
          "base_uri": "https://localhost:8080/"
        },
        "id": "Fk7MN_Waa06e",
        "outputId": "0456abd4-9e6e-4251-ec94-792bcc4eb125"
      },
      "source": [
        "print(X_train_final.shape)\n",
        "print(X_test_final.shape)"
      ],
      "execution_count": 19,
      "outputs": [
        {
          "output_type": "stream",
          "text": [
            "(147, 9)\n",
            "(27, 9)\n"
          ],
          "name": "stdout"
        }
      ]
    },
    {
      "cell_type": "markdown",
      "metadata": {
        "id": "7jhz7N8kkfCG"
      },
      "source": [
        "#Hyperparameter tuning"
      ]
    },
    {
      "cell_type": "code",
      "metadata": {
        "id": "GYe9F-rPkR93"
      },
      "source": [
        "params = [{\n",
        "#     XGRegessor\n",
        "    'learning_rate': [i/10.0 for i in range(0,10)],\n",
        "    'n_estimators': range(0,400,50),\n",
        "    'max_depth':range(1,8,1),\n",
        "    'gamma':[i/10.0 for i in range(0,5)],\n",
        "        },\n",
        "    { \n",
        "#     BaysianRidge\n",
        "    'alpha_1': [0.00001, 0.0001, 0.001, 0.01, 0.1, 1, 10, 100, 1000],\n",
        "    'alpha_2': [0.00001, 0.0001, 0.001, 0.01, 0.1, 1, 10, 100, 1000],\n",
        "    'fit_intercept': [True, False],    \n",
        "    },\n",
        "    { \n",
        "#     ARD regressor\n",
        "    'alpha_1': [0.00001, 0.0001, 0.001, 0.01, 0.1, 1, 10, 100, 1000],\n",
        "    'alpha_2': [0.00001, 0.0001, 0.001, 0.01, 0.1, 1, 10, 100, 1000],\n",
        "    'lambda_1': [0.00001, 0.0001, 0.001, 0.01, 0.1, 1, 10, 100, 1000],\n",
        "    'lambda_2': [0.00001, 0.0001, 0.001, 0.01, 0.1, 1, 10, 100, 1000],\n",
        "    'fit_intercept': [True, False],    \n",
        "    }]"
      ],
      "execution_count": 20,
      "outputs": []
    },
    {
      "cell_type": "code",
      "metadata": {
        "colab": {
          "base_uri": "https://localhost:8080/"
        },
        "id": "WVTYZlN1kjYw",
        "outputId": "6636804f-aea6-4186-8395-9fd5883738aa"
      },
      "source": [
        "folds = 3\n",
        "\n",
        "tuned_params, tuned_model = tuner(params=params[model_num - 1], folds=folds, model=model, X_train=X_train_final, y_train=y_train)\n",
        "\n",
        "# Retrain tuned model and test RMSE\n",
        "tuned_model = tuned_model.fit(X_train_final,y_train)\n",
        "df_test_results = predict_test_values(tuned_model, X_test_final, y_test, X_test_date, X_train_final, y_train)"
      ],
      "execution_count": 21,
      "outputs": [
        {
          "output_type": "stream",
          "text": [
            "Fitting 3 folds for each of 3 candidates, totalling 9 fits\n"
          ],
          "name": "stdout"
        },
        {
          "output_type": "stream",
          "text": [
            "[Parallel(n_jobs=4)]: Using backend LokyBackend with 4 concurrent workers.\n"
          ],
          "name": "stderr"
        },
        {
          "output_type": "stream",
          "text": [
            "\n",
            "Best hyperparameters:  {'fit_intercept': True, 'alpha_2': 0.001, 'alpha_1': 10} \n",
            "Best Score:  -1.7891721665950364\n",
            "RMSE of Test Data: 2.0836500169678973\n",
            "Adjusted R2 of Train Data: 0.9990127195210822\n",
            "R2 of Test Data: 0.9839744215537535\n"
          ],
          "name": "stdout"
        },
        {
          "output_type": "stream",
          "text": [
            "[Parallel(n_jobs=4)]: Done   6 out of   9 | elapsed:    2.3s remaining:    1.1s\n",
            "[Parallel(n_jobs=4)]: Done   9 out of   9 | elapsed:    2.3s finished\n"
          ],
          "name": "stderr"
        }
      ]
    },
    {
      "cell_type": "markdown",
      "metadata": {
        "id": "zA_nycTpwiDr"
      },
      "source": [
        "#Re-train Optimized Model"
      ]
    },
    {
      "cell_type": "code",
      "metadata": {
        "id": "tzX8Ccf9wf5O"
      },
      "source": [
        "model = tuned_model.fit(X_train_final,y_train)"
      ],
      "execution_count": 22,
      "outputs": []
    },
    {
      "cell_type": "code",
      "metadata": {
        "id": "V5cmeYpHknMt",
        "colab": {
          "base_uri": "https://localhost:8080/",
          "height": 573
        },
        "outputId": "f5a98b4e-3d9f-4d02-9cc3-0cd3953f0e49"
      },
      "source": [
        "df_test_results = predict_test_values(model, X_test_final, y_test, X_test_date, X_train_final, y_train)\n",
        "plt.rcParams[\"figure.figsize\"] = (25,8)\n",
        "plot_test_results(df_test_results, model_num)"
      ],
      "execution_count": 23,
      "outputs": [
        {
          "output_type": "stream",
          "text": [
            "RMSE of Test Data: 2.0836500169678973\n",
            "Adjusted R2 of Train Data: 0.9990127195210822\n",
            "R2 of Test Data: 0.9839744215537535\n"
          ],
          "name": "stdout"
        },
        {
          "output_type": "display_data",
          "data": {
            "image/png": "[encoded data removed]",
            "text/plain": [
              "<Figure size 1800x576 with 1 Axes>"
            ]
          },
          "metadata": {
            "tags": [],
            "needs_background": "light"
          }
        }
      ]
    },
    {
      "cell_type": "code",
      "metadata": {
        "colab": {
          "base_uri": "https://localhost:8080/"
        },
        "id": "ahUYo6QUwmYu",
        "outputId": "6f012476-1f88-492e-b25c-20024334602c"
      },
      "source": [
        "print ('Columns to use for Feature Selection Slides')\n",
        "X_train_final.columns"
      ],
      "execution_count": 24,
      "outputs": [
        {
          "output_type": "stream",
          "text": [
            "Columns to use for Feature Selection Slides\n"
          ],
          "name": "stdout"
        },
        {
          "output_type": "execute_result",
          "data": {
            "text/plain": [
              "Index(['1M_Lag', '1M_BankRate_Canada', 'Month', '1Yr_Avg_Temp',\n",
              "       '1Yr_Toronto_ConstructionCompletionsUnits',\n",
              "       '1Yr_Toronto_ConstructionStartsUnits',\n",
              "       '1M_Toronto_ConstructionStartsUnits',\n",
              "       '1M_Toronto_ConstructionCompletionsUnits',\n",
              "       '1M_Toronto_UnempRate_15_54_yrs'],\n",
              "      dtype='object')"
            ]
          },
          "metadata": {
            "tags": []
          },
          "execution_count": 24
        }
      ]
    },
    {
      "cell_type": "code",
      "metadata": {
        "id": "A0uPbA6vw8zr"
      },
      "source": [
        "pd.DataFrame(list(zip(X_train_final.columns,model.coef_))).to_csv('bayesian_feature_selection_coef2.csv')"
      ],
      "execution_count": 25,
      "outputs": []
    },
    {
      "cell_type": "code",
      "metadata": {
        "colab": {
          "base_uri": "https://localhost:8080/"
        },
        "id": "yGiXoPbHw-3r",
        "outputId": "cfb59b42-2db7-4bce-a058-27d2811b1872"
      },
      "source": [
        "model.intercept_"
      ],
      "execution_count": 26,
      "outputs": [
        {
          "output_type": "execute_result",
          "data": {
            "text/plain": [
              "158.35986394557824"
            ]
          },
          "metadata": {
            "tags": []
          },
          "execution_count": 26
        }
      ]
    },
    {
      "cell_type": "code",
      "metadata": {
        "colab": {
          "base_uri": "https://localhost:8080/"
        },
        "id": "F8ulUBaxxAZb",
        "outputId": "04496341-1027-4e8b-8de2-7bc169328055"
      },
      "source": [
        "list(zip(X_train_final.columns,model.coef_))"
      ],
      "execution_count": 29,
      "outputs": [
        {
          "output_type": "execute_result",
          "data": {
            "text/plain": [
              "[('1M_Lag', 45.17239841583084),\n",
              " ('1M_BankRate_Canada', -0.18203353616698809),\n",
              " ('Month', -0.5728371543795375),\n",
              " ('1Yr_Avg_Temp', -0.2738501503160036),\n",
              " ('1Yr_Toronto_ConstructionCompletionsUnits', 0.056959344319346766),\n",
              " ('1Yr_Toronto_ConstructionStartsUnits', 0.18434367595235465),\n",
              " ('1M_Toronto_ConstructionStartsUnits', 0.06951817090211089),\n",
              " ('1M_Toronto_ConstructionCompletionsUnits', 0.021460168125700455),\n",
              " ('1M_Toronto_UnempRate_15_54_yrs', 0.19712804330057135)]"
            ]
          },
          "metadata": {
            "tags": []
          },
          "execution_count": 29
        }
      ]
    }
  ]
}